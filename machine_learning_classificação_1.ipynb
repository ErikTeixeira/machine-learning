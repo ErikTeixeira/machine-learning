{
  "cells": [
    {
      "cell_type": "markdown",
      "metadata": {
        "id": "view-in-github",
        "colab_type": "text"
      },
      "source": [
        "<a href=\"https://colab.research.google.com/github/ErikTeixeira/machine-learning/blob/main/machine_learning_classifica%C3%A7%C3%A3o_1.ipynb\" target=\"_parent\"><img src=\"https://colab.research.google.com/assets/colab-badge.svg\" alt=\"Open In Colab\"/></a>"
      ]
    },
    {
      "cell_type": "code",
      "source": [
        "# features  ( 1 - sim, 0 - não)\n",
        "# pelo longo?\n",
        "# perna curta?\n",
        "# faz auau?\n",
        "porco1 = [0, 1, 0]\n",
        "porco2 = [0, 1, 1]\n",
        "porco3 = [1, 1, 0]\n",
        "\n",
        "cachorro1 = [0, 1, 1]\n",
        "cachorro2 = [1, 0, 1]\n",
        "cachorro3 = [1, 1, 1]\n",
        "\n",
        "#  1 - porco  |   0 - cachorro\n",
        "\n",
        "# dados = x\n",
        "# classes = y\n",
        "\n",
        "train_x = [porco1, porco2, porco3, cachorro1, cachorro2, cachorro3]\n",
        "train_y = [1, 1, 1, 0, 0, 0]    # labels - etiquetas"
      ],
      "metadata": {
        "id": "sVQb4LBfg05f"
      },
      "execution_count": null,
      "outputs": []
    },
    {
      "cell_type": "code",
      "source": [
        "from sklearn.svm import LinearSVC\n",
        "\n",
        "# Passar as informações para modelo\n",
        "modelo = LinearSVC()\n",
        "# adaptar o modelo as informações (dados, classes) - fit\n",
        "# aprendizado supervisionado  -  falar para ele o que e cada coisa\n",
        "modelo.fit(train_x, train_y)"
      ],
      "metadata": {
        "colab": {
          "base_uri": "https://localhost:8080/",
          "height": 74
        },
        "id": "awG1fv9wjr3o",
        "outputId": "6136e4f9-b0ef-4fcb-9efa-b1170bfc941c"
      },
      "execution_count": null,
      "outputs": [
        {
          "output_type": "execute_result",
          "data": {
            "text/plain": [
              "LinearSVC()"
            ],
            "text/html": [
              "<style>#sk-container-id-1 {color: black;background-color: white;}#sk-container-id-1 pre{padding: 0;}#sk-container-id-1 div.sk-toggleable {background-color: white;}#sk-container-id-1 label.sk-toggleable__label {cursor: pointer;display: block;width: 100%;margin-bottom: 0;padding: 0.3em;box-sizing: border-box;text-align: center;}#sk-container-id-1 label.sk-toggleable__label-arrow:before {content: \"▸\";float: left;margin-right: 0.25em;color: #696969;}#sk-container-id-1 label.sk-toggleable__label-arrow:hover:before {color: black;}#sk-container-id-1 div.sk-estimator:hover label.sk-toggleable__label-arrow:before {color: black;}#sk-container-id-1 div.sk-toggleable__content {max-height: 0;max-width: 0;overflow: hidden;text-align: left;background-color: #f0f8ff;}#sk-container-id-1 div.sk-toggleable__content pre {margin: 0.2em;color: black;border-radius: 0.25em;background-color: #f0f8ff;}#sk-container-id-1 input.sk-toggleable__control:checked~div.sk-toggleable__content {max-height: 200px;max-width: 100%;overflow: auto;}#sk-container-id-1 input.sk-toggleable__control:checked~label.sk-toggleable__label-arrow:before {content: \"▾\";}#sk-container-id-1 div.sk-estimator input.sk-toggleable__control:checked~label.sk-toggleable__label {background-color: #d4ebff;}#sk-container-id-1 div.sk-label input.sk-toggleable__control:checked~label.sk-toggleable__label {background-color: #d4ebff;}#sk-container-id-1 input.sk-hidden--visually {border: 0;clip: rect(1px 1px 1px 1px);clip: rect(1px, 1px, 1px, 1px);height: 1px;margin: -1px;overflow: hidden;padding: 0;position: absolute;width: 1px;}#sk-container-id-1 div.sk-estimator {font-family: monospace;background-color: #f0f8ff;border: 1px dotted black;border-radius: 0.25em;box-sizing: border-box;margin-bottom: 0.5em;}#sk-container-id-1 div.sk-estimator:hover {background-color: #d4ebff;}#sk-container-id-1 div.sk-parallel-item::after {content: \"\";width: 100%;border-bottom: 1px solid gray;flex-grow: 1;}#sk-container-id-1 div.sk-label:hover label.sk-toggleable__label {background-color: #d4ebff;}#sk-container-id-1 div.sk-serial::before {content: \"\";position: absolute;border-left: 1px solid gray;box-sizing: border-box;top: 0;bottom: 0;left: 50%;z-index: 0;}#sk-container-id-1 div.sk-serial {display: flex;flex-direction: column;align-items: center;background-color: white;padding-right: 0.2em;padding-left: 0.2em;position: relative;}#sk-container-id-1 div.sk-item {position: relative;z-index: 1;}#sk-container-id-1 div.sk-parallel {display: flex;align-items: stretch;justify-content: center;background-color: white;position: relative;}#sk-container-id-1 div.sk-item::before, #sk-container-id-1 div.sk-parallel-item::before {content: \"\";position: absolute;border-left: 1px solid gray;box-sizing: border-box;top: 0;bottom: 0;left: 50%;z-index: -1;}#sk-container-id-1 div.sk-parallel-item {display: flex;flex-direction: column;z-index: 1;position: relative;background-color: white;}#sk-container-id-1 div.sk-parallel-item:first-child::after {align-self: flex-end;width: 50%;}#sk-container-id-1 div.sk-parallel-item:last-child::after {align-self: flex-start;width: 50%;}#sk-container-id-1 div.sk-parallel-item:only-child::after {width: 0;}#sk-container-id-1 div.sk-dashed-wrapped {border: 1px dashed gray;margin: 0 0.4em 0.5em 0.4em;box-sizing: border-box;padding-bottom: 0.4em;background-color: white;}#sk-container-id-1 div.sk-label label {font-family: monospace;font-weight: bold;display: inline-block;line-height: 1.2em;}#sk-container-id-1 div.sk-label-container {text-align: center;}#sk-container-id-1 div.sk-container {/* jupyter's `normalize.less` sets `[hidden] { display: none; }` but bootstrap.min.css set `[hidden] { display: none !important; }` so we also need the `!important` here to be able to override the default hidden behavior on the sphinx rendered scikit-learn.org. See: https://github.com/scikit-learn/scikit-learn/issues/21755 */display: inline-block !important;position: relative;}#sk-container-id-1 div.sk-text-repr-fallback {display: none;}</style><div id=\"sk-container-id-1\" class=\"sk-top-container\"><div class=\"sk-text-repr-fallback\"><pre>LinearSVC()</pre><b>In a Jupyter environment, please rerun this cell to show the HTML representation or trust the notebook. <br />On GitHub, the HTML representation is unable to render, please try loading this page with nbviewer.org.</b></div><div class=\"sk-container\" hidden><div class=\"sk-item\"><div class=\"sk-estimator sk-toggleable\"><input class=\"sk-toggleable__control sk-hidden--visually\" id=\"sk-estimator-id-1\" type=\"checkbox\" checked><label for=\"sk-estimator-id-1\" class=\"sk-toggleable__label sk-toggleable__label-arrow\">LinearSVC</label><div class=\"sk-toggleable__content\"><pre>LinearSVC()</pre></div></div></div></div></div>"
            ]
          },
          "metadata": {},
          "execution_count": 2
        }
      ]
    },
    {
      "cell_type": "code",
      "source": [
        "animal_misterioso = [1, 1, 1]\n",
        "# tentar prever qual a classe do animal misterioso\n",
        "# predict não funciona passando 1 valor - ai colocou em uma lista\n",
        "modelo.predict([animal_misterioso])\n",
        "\n",
        "# resultado   - array([0])  -  cachorro"
      ],
      "metadata": {
        "colab": {
          "base_uri": "https://localhost:8080/"
        },
        "id": "yoOLJhhAk8Ap",
        "outputId": "280e4c98-b90e-4eec-f42e-ae478cf2a25f"
      },
      "execution_count": null,
      "outputs": [
        {
          "output_type": "execute_result",
          "data": {
            "text/plain": [
              "array([0])"
            ]
          },
          "metadata": {},
          "execution_count": 4
        }
      ]
    },
    {
      "cell_type": "code",
      "source": [
        "misterio1 = [1, 1, 1]   # cachorro\n",
        "misterio2 = [1, 1, 0]   # porco\n",
        "misterio3 = [0, 1, 1]   # porco\n",
        "\n",
        "testes_x = [misterio1, misterio2, misterio3]\n",
        "testes_y = [0, 1, 1]"
      ],
      "metadata": {
        "id": "2mrgOKXqmeho"
      },
      "execution_count": null,
      "outputs": []
    },
    {
      "cell_type": "code",
      "source": [
        "previsoes = modelo.predict(testes_x)\n",
        "\n",
        "# resultado errado - array([0, 1, 0])\n",
        "\n",
        "# previsoes não é uma lista - array([0, 1, 0])\n",
        "# sklearn - usa a biblioteca numpy"
      ],
      "metadata": {
        "id": "3Ic_u8ufsubF"
      },
      "execution_count": null,
      "outputs": []
    },
    {
      "cell_type": "code",
      "source": [
        "previsoes == testes_y\n",
        "\n",
        "# devolve uma array do numpy  - array([ True,  True, False])\n",
        "# podendo somar"
      ],
      "metadata": {
        "colab": {
          "base_uri": "https://localhost:8080/"
        },
        "id": "gtcZNm_3oI2V",
        "outputId": "61cd3bc7-04e2-427f-f4e8-75c316727afb"
      },
      "execution_count": null,
      "outputs": [
        {
          "output_type": "execute_result",
          "data": {
            "text/plain": [
              "array([ True,  True, False])"
            ]
          },
          "metadata": {},
          "execution_count": 7
        }
      ]
    },
    {
      "cell_type": "code",
      "source": [
        "corretos = (previsoes == testes_y).sum()\n",
        "# devolve 2 - número de verdadeiros\n",
        "\n",
        "total = len(testes_x)\n",
        "\n",
        "taxa_acertos = corretos/total\n",
        "\n",
        "print(f\"Taxa de acertos: {taxa_acertos}\")\n",
        "\n",
        "# falar em porcentagem\n",
        "print(f\"Taxa de acertos: {taxa_acertos * 100}\")"
      ],
      "metadata": {
        "colab": {
          "base_uri": "https://localhost:8080/"
        },
        "id": "IK3ahLHmo8Xk",
        "outputId": "20620043-556f-4fc1-ecfe-8749b0e48a92"
      },
      "execution_count": null,
      "outputs": [
        {
          "output_type": "stream",
          "name": "stdout",
          "text": [
            "Taxa de acertos: 0.6666666666666666\n",
            "Taxa de acertos: 66.66666666666666\n"
          ]
        }
      ]
    },
    {
      "cell_type": "code",
      "source": [
        "# função do sklearn que mede a taxa de acertos - accuracy_score\n",
        "\n",
        "from sklearn.metrics import accuracy_score\n",
        "\n",
        "# accuracy_score(valores_verdadeiros, previsoes)    -   ver na documentação\n",
        "taxa_acerto = accuracy_score(testes_y, previsoes)\n",
        "\n",
        "print(taxa_acerto)"
      ],
      "metadata": {
        "colab": {
          "base_uri": "https://localhost:8080/"
        },
        "id": "chVFUyQBqEAt",
        "outputId": "8188aaa5-7d33-467f-da6f-414afbd060a7"
      },
      "execution_count": null,
      "outputs": [
        {
          "output_type": "stream",
          "name": "stdout",
          "text": [
            "0.6666666666666666\n"
          ]
        }
      ]
    },
    {
      "cell_type": "markdown",
      "source": [
        "##Ordem correta para treinar o algoritmo\n",
        "\n",
        "Definir um modelo de treino, definir uma lista com dados para treino e dados com os resultados esperados, treinar com base na lista de dados e nos resultados esperados."
      ],
      "metadata": {
        "id": "S6e6O2nsuCHr"
      }
    }
  ],
  "metadata": {
    "colab": {
      "provenance": [],
      "include_colab_link": true
    },
    "kernelspec": {
      "display_name": "Python 3",
      "name": "python3"
    }
  },
  "nbformat": 4,
  "nbformat_minor": 0
}